





# On peut faire un joli commentaire : le code suivant doit afficher la chaine de caractère Hello World
print("Hello world")





# La cellule se termine par un résultat qui n'est pas stocké dans une variable : le résultat s'affiche en-dessous
1 + 1


# Le résultat est stocké dans une variable : aucun affichage
c = 42* 176


# On termine la cellule par un nom de variable : son contenu s'affiche en-dessous
c





# A executer en deuxième
a = 12 * var
print("Le résultat du calcul ", 12, "*", var, "est ", a)


# A executer en premier
var = 56

























































