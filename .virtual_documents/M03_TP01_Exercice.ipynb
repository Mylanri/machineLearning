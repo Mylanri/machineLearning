


import numpy as np
import pandas as pd
import matplotlib.pyplot as plt
import seaborn as sns





mat = np.arange(1,10).reshape((3,3))
print(mat)





def traceCal(n):
    c=0
    for i in range (len(n)):
        c+=n[i][i]
    return c

print("Méthode :", traceCal(mat))
print("Trace :",np.trace(mat))





mat2 = np.ones((3, 3))
print(mat2)





vert = np.vstack((mat, mat2))
print(vert)





hori = np.hstack((mat, mat2))
print(hori)





def genCal(matrix, number):
    return np.count_nonzero(matrix < number)
print(genCal(hori, 4))








data = pd.read_csv("https://raw.githubusercontent.com/datasciencedojo/datasets/master/titanic.csv")
print(data)





print(len(data), len(data.columns), data.isnull().sum().sum())





print(data.describe())





print(data[['Survived', 'Age']])





print(data[(data['Cabin']=='B78')])





print(data[(data['Age']>30) & (data['Sex']=="female") & (data['Pclass']==1) & (data['Survived']==0)])





print(data[(data['Embarked'].isin(['C','Q'])) & (data['Pclass']==1) & (data['SibSp'] >=2)])





print(data[data['Survived'] == 1].groupby('Sex').size())





print(data.groupby('Pclass')['Age'].mean())





data['NbAccompagnants'] = data['SibSp'] + data['Parch']
print(data['NbAccompagnants'])





plt.scatter(data['Age'], data['Fare'])
plt.ylabel('Fare')
plt.xlabel('Age')
plt.title('Age for Fare')






PclassByPerson = data.groupby('Pclass').size()

plt.bar(PclassByPerson.index, PclassByPerson.values)

plt.title("Nombre de passagers par classe")
plt.xlabel("Classe")
plt.ylabel("Nombre de passagers")
plt.xticks([1, 2, 3])





PclassSex = data.groupby(['Pclass', 'Sex']).size().unstack()

labels = [1, 2, 3]
x = np.arange(len(labels))
width = 0.25

plt.bar(x - width/2, PclassSex['male'], width, label='Hommes', color='red')
plt.bar(x + width/2, PclassSex['female'], width, label='Femmes', color='pink')

plt.xlabel("Classe")
plt.ylabel("Nombre de passagers")
plt.title("Nombre d'hommes et de femmes par classe")
plt.xticks(x, labels)
plt.legend()





plt.figure(figsize=(10,6))
survivants = data['Survived'] == 1
non_survivants = data['Survived'] == 0

plt.scatter(data[survivants]['NbAccompagnants'], data[survivants]['Fare'],
            c='green', label='Survécu', alpha=0.6)
plt.scatter(data[non_survivants]['NbAccompagnants'], data[non_survivants]['Fare'],
            c='red', label='Décédé', alpha=0.6)

plt.title("Prix du ticket en fonction du nombre d'accompagnants")
plt.xlabel("Nombre de membres de la famille accompagnants")
plt.ylabel("Prix du ticket")
plt.legend()





fig, axes = plt.subplots(2, 3, figsize=(18, 10))
plt.subplots_adjust(hspace=0.4, wspace=0.3)

ports = data['Embarked'].dropna().unique()

for i, port in enumerate(ports):
    subset = data[data['Embarked'] == port]

    sns.scatterplot(
        data=subset,
        x='Age',
        y='Fare',
        ax=axes[0, i],
        alpha=0.6
    )
    axes[0, i].set_title(f"Port: {port} - Âge vs Prix du billet")
    axes[0, i].set_xlabel("Âge")
    axes[0, i].set_ylabel("Prix du billet (Fare)")

    sns.countplot(
        data=subset,
        x='Sex',
        ax=axes[1, i]
    )
    axes[1, i].set_title(f"Port: {port} - Nombre de passagers par genre")
    axes[1, i].set_xlabel("Genre")
    axes[1, i].set_ylabel("Nombre de passagers")

for j in range(len(ports), 3):
    fig.delaxes(axes[0, j])
    fig.delaxes(axes[1, j])

plt.suptitle("Analyse par port d'embarquement", fontsize=16)





sns.scatterplot(data=data, x='Age', y='Fare', hue='Embarked')

plt.title("Age des passagers en fonction du prix du ticket")
plt.xlabel("Age")
plt.ylabel("Fare")
plt.legend(title='Port d\'embarquement')





plt.figure(figsize=(6,4))
sns.histplot(data=data, x='Sex', discrete=True)

plt.title("Nombre de passagers par genre")
plt.xlabel("Genre")
plt.ylabel("Nombre de passagers")





plt.figure(figsize=(8,6))
sns.countplot(data=data, x='Pclass', hue='Sex', palette='Set2')

plt.title("Nombre d'hommes et de femmes par classe")
plt.xlabel("Classe")
plt.ylabel("Nombre de passagers")
plt.legend(title="Sexe")





sns.pairplot(data=data, vars=['Age', 'Fare'], hue='Survived', palette='Set1')
plt.suptitle("Pairplot de l'âge et du prix du ticket selon la survie", y=1.02)





data['FamilyMembers'] = data['SibSp'] + data['Parch']

corr_data = data[['Survived', 'Age', 'Pclass', 'FamilyMembers', 'Fare']].dropna()

corr_matrix = corr_data.corr()

plt.figure(figsize=(8,6))
sns.heatmap(corr_matrix, annot=True, cmap='coolwarm', linewidths=0.5, fmt=".2f")

plt.title("Matrice de corrélation entre les variables du Titanic")



