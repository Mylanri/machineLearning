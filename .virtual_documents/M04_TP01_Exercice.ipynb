


import numpy as np
import pandas as pd
import matplotlib.pyplot as plt
import seaborn as sns
from sklearn import preprocessing





data = pd.read_csv("https://raw.githubusercontent.com/datasciencedojo/datasets/master/titanic.csv")
print(data.info())





print(len(data))





print(len(data.columns))





numerical_cols = data.select_dtypes(include=['int64', 'float64']).columns
continuous_cols = [col for col in numerical_cols if data[col].nunique() > 20]
discrete_cols = [col for col in numerical_cols if data[col].nunique() <= 20]

print("\nColonnes avec données discrètes :")
print(discrete_cols)
print("\nColonnes avec données continues :")
print(continuous_cols)





qualitative_cols = data.select_dtypes(include=['object']).columns.tolist()

for col in data.select_dtypes(include=['int64', 'float64']).columns:
    if data[col].nunique() <= 10:
        qualitative_cols.append(col)

quantitative_cols = [col for col in data.columns if col not in qualitative_cols]

print("Colonnes avec données **qualitatives** :")
print(qualitative_cols)

print("\nColonnes avec données **quantitatives** :")
print(quantitative_cols)











quantitative_cols = ['Age', 'Fare', 'SibSp', 'Parch']

stats = data[quantitative_cols].describe()
print(stats)





plt.figure(figsize=(8,6))
sns.countplot(data=data, x='Sex', hue='Survived', palette='pastel')

plt.title("Nombre de personnes ayant survécu selon le genre")
plt.xlabel("Genre")
plt.ylabel("Nombre de personnes")
plt.legend(title='Survived', labels=['Non', 'Oui'])
plt.show()





plt.figure(figsize=(14, 6))
plt.subplot(1, 2, 1)
sns.boxplot(data=data, x='Pclass', y='Fare', palette='Set2', hue='Pclass', legend=False)
plt.title("Distribution du tarif (Fare) selon la classe (Pclass)")
plt.xlabel("Classe du billet (Pclass)")
plt.ylabel("Tarif (Fare)")
plt.tight_layout()
plt.show()





plt.figure(figsize=(14, 6))

plt.subplot(1, 2, 2)
sns.stripplot(data=data, x='Pclass', y='Fare', hue='Pclass', palette='Set2', jitter=True, legend=False)
plt.title("Répartition des tarifs (Fare) par classe (Pclass)")
plt.xlabel("Classe du billet (Pclass)")
plt.ylabel("Tarif (Fare)")
plt.tight_layout()
plt.show()


plt.subplot(1, 2, 2)
sns.violinplot(data=data, x='Survived', y='Fare', hue='Pclass', split=True, palette='Set1')
plt.title("Répartition du tarif (Fare) selon la survie et la classe")
plt.xlabel("Survécu (0 = Non, 1 = Oui)")
plt.ylabel("Tarif (Fare)")








null_counts = data.isnull().sum()
print(null_counts)





missing_embarked = data[data['Embarked'].isnull()]
print(missing_embarked)





data['Embarked'] = data['Embarked'].fillna('U')
missing_embarked_after = data[data['Embarked'] == 'U']
print(missing_embarked_after)





data = data.drop(columns=['Cabin'])
print(data.columns)





age_means = data.groupby(['Sex', 'Pclass'])['Age'].mean()

print(age_means)





age_means = data.groupby(['Sex', 'Pclass'])['Age'].mean()

def fill_age(row):
    if pd.isnull(row['Age']):
        return age_means.loc[row['Sex'], row['Pclass']]
    else:
        return row['Age']

data['Age'] = data.apply(fill_age, axis=1)








print(data.info())





colonnes_a_supprimer = ['PassengerId', 'Name', 'Ticket']
data = data.drop(columns=colonnes_a_supprimer)
data.info()





data['FamilySize'] = data['SibSp'] + data['Parch'] + 1  # +1 pour inclure le passager lui-même

data = data.drop(columns=['SibSp', 'Parch'])





colonnes_cat = ['Sex', 'Embarked']

X_cat = data[colonnes_cat]

encoder = preprocessing.OneHotEncoder(drop='if_binary', sparse_output=False, dtype=int)

X_encoded = encoder.fit_transform(X_cat)

noms_nouvelles_colonnes = encoder.get_feature_names_out(colonnes_cat)

df_encoded = pd.DataFrame(X_encoded, columns=noms_nouvelles_colonnes, index=data.index)

data = data.drop(columns=colonnes_cat)

data = pd.concat([data, df_encoded], axis=1)

data.head()





print(data.dtypes)
print(data.isnull().sum())
data.to_csv('https://raw.githubusercontent.com/datasciencedojo/datasets/master/titanic.csv', index=False)



