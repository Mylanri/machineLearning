


import math
a = 1+1
b = math.sin(a)
print(a)
print(b)
