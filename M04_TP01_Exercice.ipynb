{
 "cells": [
  {
   "cell_type": "markdown",
   "id": "395d61ec",
   "metadata": {},
   "source": [
    "# TP1 du module 4 : le travail sur les données.\n",
    "\n",
    "Dans ce TP, nous allons explorer plus en détails le jeu de données du Titanic. Objectifs :\n",
    "* Analyser des statistiques pour décrire les données\n",
    "* Produire des visualisations pertinentes pour la compréhesion des données.\n",
    "* Nettoyer le jeu de données\n",
    "* Préparer les données pour qu'elles soient prêtes à être fournies à un algorithme d'apprentissage."
   ]
  },
  {
   "cell_type": "code",
   "id": "5117092f",
   "metadata": {
    "ExecuteTime": {
     "end_time": "2025-06-25T07:49:15.609040Z",
     "start_time": "2025-06-25T07:49:15.391146Z"
    }
   },
   "source": [
    "import numpy as np\n",
    "import pandas as pd\n",
    "import matplotlib.pyplot as plt\n",
    "import seaborn as sns\n",
    "from sklearn import preprocessing"
   ],
   "outputs": [],
   "execution_count": 1
  },
  {
   "cell_type": "markdown",
   "id": "fde8da96",
   "metadata": {},
   "source": [
    "Commencez par recharger le jeu de données depuis un csv dans un dataframe Pandas. Rappel de l'adresse à laquelle vous pouvez le trouver : https://raw.githubusercontent.com/datasciencedojo/datasets/master/titanic.csv"
   ]
  },
  {
   "cell_type": "code",
   "id": "33fba6ca",
   "metadata": {
    "ExecuteTime": {
     "end_time": "2025-06-25T07:49:15.892176Z",
     "start_time": "2025-06-25T07:49:15.719194Z"
    }
   },
   "source": [
    "data = pd.read_csv(\"https://raw.githubusercontent.com/datasciencedojo/datasets/master/titanic.csv\")\n",
    "print(data.info())"
   ],
   "outputs": [
    {
     "name": "stdout",
     "output_type": "stream",
     "text": [
      "<class 'pandas.core.frame.DataFrame'>\n",
      "RangeIndex: 891 entries, 0 to 890\n",
      "Data columns (total 12 columns):\n",
      " #   Column       Non-Null Count  Dtype  \n",
      "---  ------       --------------  -----  \n",
      " 0   PassengerId  891 non-null    int64  \n",
      " 1   Survived     891 non-null    int64  \n",
      " 2   Pclass       891 non-null    int64  \n",
      " 3   Name         891 non-null    object \n",
      " 4   Sex          891 non-null    object \n",
      " 5   Age          714 non-null    float64\n",
      " 6   SibSp        891 non-null    int64  \n",
      " 7   Parch        891 non-null    int64  \n",
      " 8   Ticket       891 non-null    object \n",
      " 9   Fare         891 non-null    float64\n",
      " 10  Cabin        204 non-null    object \n",
      " 11  Embarked     889 non-null    object \n",
      "dtypes: float64(2), int64(5), object(5)\n",
      "memory usage: 83.7+ KB\n",
      "None\n"
     ]
    }
   ],
   "execution_count": 2
  },
  {
   "cell_type": "markdown",
   "id": "205f765d",
   "metadata": {},
   "source": [
    "## Exploration du jeu de données\n",
    "\n",
    "Commencez par répondre au question suivante. Prenez le temps de bien analyser vos réponses, afin de mieux vous familiariser avec le contenu du jeu de données.\n",
    "\n",
    "1. Combien de données dans le jeu de données Titanic ?"
   ]
  },
  {
   "cell_type": "code",
   "id": "4ee3884e",
   "metadata": {
    "ExecuteTime": {
     "end_time": "2025-06-25T07:49:15.936452Z",
     "start_time": "2025-06-25T07:49:15.929652Z"
    }
   },
   "source": [
    "print(len(data))"
   ],
   "outputs": [
    {
     "name": "stdout",
     "output_type": "stream",
     "text": [
      "891\n"
     ]
    }
   ],
   "execution_count": 3
  },
  {
   "cell_type": "markdown",
   "id": "74f32328",
   "metadata": {},
   "source": [
    "2. Combien d'attributs compte le jeu de données ?"
   ]
  },
  {
   "cell_type": "code",
   "id": "80eeccc3",
   "metadata": {
    "ExecuteTime": {
     "end_time": "2025-06-25T07:49:16.040745Z",
     "start_time": "2025-06-25T07:49:15.999112Z"
    }
   },
   "source": [
    "print(len(data.columns))"
   ],
   "outputs": [
    {
     "name": "stdout",
     "output_type": "stream",
     "text": [
      "12\n"
     ]
    }
   ],
   "execution_count": 4
  },
  {
   "cell_type": "markdown",
   "id": "819573a7",
   "metadata": {},
   "source": [
    "3. Identifiez quelles colonnes contiennent des données discrètes, et lesquelles contiennent des données continues."
   ]
  },
  {
   "cell_type": "code",
   "id": "87aa38a1",
   "metadata": {
    "ExecuteTime": {
     "end_time": "2025-06-25T07:49:16.100038Z",
     "start_time": "2025-06-25T07:49:16.081092Z"
    }
   },
   "source": [
    "numerical_cols = data.select_dtypes(include=['int64', 'float64']).columns\n",
    "continuous_cols = [col for col in numerical_cols if data[col].nunique() > 20]\n",
    "discrete_cols = [col for col in numerical_cols if data[col].nunique() <= 20]\n",
    "\n",
    "print(\"\\nColonnes avec données discrètes :\")\n",
    "print(discrete_cols)\n",
    "print(\"\\nColonnes avec données continues :\")\n",
    "print(continuous_cols)"
   ],
   "outputs": [
    {
     "name": "stdout",
     "output_type": "stream",
     "text": [
      "\n",
      "Colonnes avec données discrètes :\n",
      "['Survived', 'Pclass', 'SibSp', 'Parch']\n",
      "\n",
      "Colonnes avec données continues :\n",
      "['PassengerId', 'Age', 'Fare']\n"
     ]
    }
   ],
   "execution_count": 5
  },
  {
   "cell_type": "markdown",
   "id": "59733c69",
   "metadata": {},
   "source": [
    "4. De la même manière, identifiez les colonnes de données qualitatives, et celles de données quantitatives."
   ]
  },
  {
   "cell_type": "code",
   "id": "67230396",
   "metadata": {
    "ExecuteTime": {
     "end_time": "2025-06-25T07:49:16.219170Z",
     "start_time": "2025-06-25T07:49:16.174289Z"
    }
   },
   "source": [
    "qualitative_cols = data.select_dtypes(include=['object']).columns.tolist()\n",
    "\n",
    "for col in data.select_dtypes(include=['int64', 'float64']).columns:\n",
    "    if data[col].nunique() <= 10:\n",
    "        qualitative_cols.append(col)\n",
    "\n",
    "quantitative_cols = [col for col in data.columns if col not in qualitative_cols]\n",
    "\n",
    "print(\"Colonnes avec données **qualitatives** :\")\n",
    "print(qualitative_cols)\n",
    "\n",
    "print(\"\\nColonnes avec données **quantitatives** :\")\n",
    "print(quantitative_cols)"
   ],
   "outputs": [
    {
     "name": "stdout",
     "output_type": "stream",
     "text": [
      "Colonnes avec données **qualitatives** :\n",
      "['Name', 'Sex', 'Ticket', 'Cabin', 'Embarked', 'Survived', 'Pclass', 'SibSp', 'Parch']\n",
      "\n",
      "Colonnes avec données **quantitatives** :\n",
      "['PassengerId', 'Age', 'Fare']\n"
     ]
    }
   ],
   "execution_count": 6
  },
  {
   "cell_type": "markdown",
   "id": "69c4bee2",
   "metadata": {},
   "source": [
    "5. Affichez les statistiques de base sur les colonnes quantitatives du dataset. \n",
    "Quelles informations pouvez-vous en retirer ? Pour chaque attribut, cherchez au moins une information pertinente que vous pouvez déduire de vos observations."
   ]
  },
  {
   "cell_type": "code",
   "id": "82ebfbb6",
   "metadata": {
    "ExecuteTime": {
     "end_time": "2025-06-25T07:49:16.257307Z",
     "start_time": "2025-06-25T07:49:16.252794Z"
    }
   },
   "source": [],
   "outputs": [],
   "execution_count": null
  },
  {
   "cell_type": "markdown",
   "id": "46384afa",
   "metadata": {},
   "source": [
    "6. Sur une figure avec 6 sous-figures, proposez un histogramme pour visualiser la répartition des valeurs sur les attributs suivants : Survived, Pclass, Sex, Embarked, Age, Fare. Pour chaque figure, quelle(s) observation(s) pouvez-vous faire ?"
   ]
  },
  {
   "cell_type": "code",
   "id": "94ddbac5",
   "metadata": {
    "ExecuteTime": {
     "end_time": "2025-06-25T07:49:16.401404Z",
     "start_time": "2025-06-25T07:49:16.352020Z"
    }
   },
   "source": [
    "quantitative_cols = ['Age', 'Fare', 'SibSp', 'Parch']\n",
    "\n",
    "stats = data[quantitative_cols].describe()\n",
    "print(stats)"
   ],
   "outputs": [
    {
     "name": "stdout",
     "output_type": "stream",
     "text": [
      "              Age        Fare       SibSp       Parch\n",
      "count  714.000000  891.000000  891.000000  891.000000\n",
      "mean    29.699118   32.204208    0.523008    0.381594\n",
      "std     14.526497   49.693429    1.102743    0.806057\n",
      "min      0.420000    0.000000    0.000000    0.000000\n",
      "25%     20.125000    7.910400    0.000000    0.000000\n",
      "50%     28.000000   14.454200    0.000000    0.000000\n",
      "75%     38.000000   31.000000    1.000000    0.000000\n",
      "max     80.000000  512.329200    8.000000    6.000000\n"
     ]
    }
   ],
   "execution_count": 7
  },
  {
   "cell_type": "markdown",
   "id": "620fbbba",
   "metadata": {},
   "source": [
    "7. Sur un même graphique, représentez, pour chaque genre, le nombre de personnes ayant survécu. Que pouvez-vous en déduire ? Le genre d'un passager vous parait-il pertinent pour qu'un modèle d'apprentissage puisse prédire si ce passager a survécu ?"
   ]
  },
  {
   "cell_type": "code",
   "id": "f58cb499",
   "metadata": {
    "ExecuteTime": {
     "end_time": "2025-06-25T07:49:16.762118Z",
     "start_time": "2025-06-25T07:49:16.438805Z"
    }
   },
   "source": [
    "plt.figure(figsize=(8,6))\n",
    "sns.countplot(data=data, x='Sex', hue='Survived', palette='pastel')\n",
    "\n",
    "plt.title(\"Nombre de personnes ayant survécu selon le genre\")\n",
    "plt.xlabel(\"Genre\")\n",
    "plt.ylabel(\"Nombre de personnes\")\n",
    "plt.legend(title='Survived', labels=['Non', 'Oui'])\n",
    "plt.show()"
   ],
   "outputs": [
    {
     "data": {
      "text/plain": [
       "<Figure size 800x600 with 1 Axes>"
      ],
      "image/png": "[encoded data removed]"
     },
     "metadata": {},
     "output_type": "display_data"
    }
   ],
   "execution_count": 8
  },
  {
   "cell_type": "markdown",
   "id": "412e2e95",
   "metadata": {},
   "source": [
    "8. En vous basant sur une visualisation, observez-vous une corrélation entre certains attributs ? Que pouvez-vous en déduire pour un futur modèle d'apprentissage ?"
   ]
  },
  {
   "cell_type": "code",
   "id": "48d8ee62",
   "metadata": {
    "ExecuteTime": {
     "end_time": "2025-06-25T07:49:17.130540Z",
     "start_time": "2025-06-25T07:49:16.871808Z"
    }
   },
   "source": [
    "plt.figure(figsize=(14, 6))\n",
    "plt.subplot(1, 2, 1)\n",
    "sns.boxplot(data=data, x='Pclass', y='Fare', palette='Set2', hue='Pclass', legend=False)\n",
    "plt.title(\"Distribution du tarif (Fare) selon la classe (Pclass)\")\n",
    "plt.xlabel(\"Classe du billet (Pclass)\")\n",
    "plt.ylabel(\"Tarif (Fare)\")\n",
    "plt.tight_layout()\n",
    "plt.show()"
   ],
   "outputs": [
    {
     "data": {
      "text/plain": [
       "<Figure size 1400x600 with 1 Axes>"
      ],
      "image/png": "[encoded data removed]"
     },
     "metadata": {},
     "output_type": "display_data"
    }
   ],
   "execution_count": 9
  },
  {
   "cell_type": "markdown",
   "id": "ae39b80c",
   "metadata": {},
   "source": [
    "9. En vous basant sur vos observations de la visualisation précédente, confirmez vos impressions en proposant deux visualisations. Par exemple, si vous avez observé une corrélation entre un attribut A et un attribut B, mettez en valeur le fait que les mêmes valeurs de A sont souvent trouvées avec les mêmes valeurs de B. "
   ]
  },
  {
   "cell_type": "code",
   "id": "987a4b5f",
   "metadata": {
    "ExecuteTime": {
     "end_time": "2025-06-25T07:49:17.414569Z",
     "start_time": "2025-06-25T07:49:17.172451Z"
    }
   },
   "source": [
    "plt.figure(figsize=(14, 6))\n",
    "\n",
    "plt.subplot(1, 2, 2)\n",
    "sns.stripplot(data=data, x='Pclass', y='Fare', hue='Pclass', palette='Set2', jitter=True, legend=False)\n",
    "plt.title(\"Répartition des tarifs (Fare) par classe (Pclass)\")\n",
    "plt.xlabel(\"Classe du billet (Pclass)\")\n",
    "plt.ylabel(\"Tarif (Fare)\")\n",
    "plt.tight_layout()\n",
    "plt.show()"
   ],
   "outputs": [
    {
     "data": {
      "text/plain": [
       "<Figure size 1400x600 with 1 Axes>"
      ],
      "image/png": "[encoded data removed]"
     },
     "metadata": {},
     "output_type": "display_data"
    }
   ],
   "execution_count": 10
  },
  {
   "cell_type": "code",
   "id": "9d66606a",
   "metadata": {
    "ExecuteTime": {
     "end_time": "2025-06-25T07:49:17.769431Z",
     "start_time": "2025-06-25T07:49:17.458588Z"
    }
   },
   "source": [
    "plt.subplot(1, 2, 2)\n",
    "sns.violinplot(data=data, x='Survived', y='Fare', hue='Pclass', split=True, palette='Set1')\n",
    "plt.title(\"Répartition du tarif (Fare) selon la survie et la classe\")\n",
    "plt.xlabel(\"Survécu (0 = Non, 1 = Oui)\")\n",
    "plt.ylabel(\"Tarif (Fare)\")"
   ],
   "outputs": [
    {
     "data": {
      "text/plain": [
       "Text(0, 0.5, 'Tarif (Fare)')"
      ]
     },
     "execution_count": 11,
     "metadata": {},
     "output_type": "execute_result"
    },
    {
     "data": {
      "text/plain": [
       "<Figure size 640x480 with 1 Axes>"
      ],
      "image/png": "[encoded data removed]"
     },
     "metadata": {},
     "output_type": "display_data"
    }
   ],
   "execution_count": 11
  },
  {
   "cell_type": "markdown",
   "id": "67adc89f",
   "metadata": {},
   "source": [
    "10. Mettez-vous à présent dans le rôle d'un data analyst face à un nouveau jeu de données : quelles autres visualisations vous paraissent nécessaires ? Proposez au moins trois visualisations qui vous semblent pertinentes. Gardez en tête que l'objectif sur ce jeu de données sera de réussir à prédire si un passager à survécu ou non."
   ]
  },
  {
   "cell_type": "markdown",
   "id": "081aafe5",
   "metadata": {},
   "source": [
    "## Nettoyage des données\n",
    "1. Pour chaque colonne, comptez le nombre de valeurs nulles."
   ]
  },
  {
   "cell_type": "code",
   "id": "ba42c62a",
   "metadata": {
    "ExecuteTime": {
     "end_time": "2025-06-25T07:49:17.813135Z",
     "start_time": "2025-06-25T07:49:17.802048Z"
    }
   },
   "source": [
    "null_counts = data.isnull().sum()\n",
    "print(null_counts)"
   ],
   "outputs": [
    {
     "name": "stdout",
     "output_type": "stream",
     "text": [
      "PassengerId      0\n",
      "Survived         0\n",
      "Pclass           0\n",
      "Name             0\n",
      "Sex              0\n",
      "Age            177\n",
      "SibSp            0\n",
      "Parch            0\n",
      "Ticket           0\n",
      "Fare             0\n",
      "Cabin          687\n",
      "Embarked         2\n",
      "dtype: int64\n"
     ]
    }
   ],
   "execution_count": 12
  },
  {
   "cell_type": "markdown",
   "id": "e5bc166d",
   "metadata": {},
   "source": [
    "### Traitement du port d'embarquement\n",
    "\n",
    "2. Les valeurs manquantes du port d'embarquement sont très peu nombreuses. De plus, s'agissant d'un attribut discret, nous pouvons considérer l'information de valeur nulle comme une valeur possible supplémentaire. Commencer par affichez les lignes pour lesquelles le port d'embarquement n'est pas renseigné."
   ]
  },
  {
   "cell_type": "code",
   "id": "5219c39a",
   "metadata": {
    "ExecuteTime": {
     "end_time": "2025-06-25T07:49:17.935115Z",
     "start_time": "2025-06-25T07:49:17.883980Z"
    }
   },
   "source": [
    "missing_embarked = data[data['Embarked'].isnull()]\n",
    "print(missing_embarked)"
   ],
   "outputs": [
    {
     "name": "stdout",
     "output_type": "stream",
     "text": [
      "     PassengerId  Survived  Pclass                                       Name  \\\n",
      "61            62         1       1                        Icard, Miss. Amelie   \n",
      "829          830         1       1  Stone, Mrs. George Nelson (Martha Evelyn)   \n",
      "\n",
      "        Sex   Age  SibSp  Parch  Ticket  Fare Cabin Embarked  \n",
      "61   female  38.0      0      0  113572  80.0   B28      NaN  \n",
      "829  female  62.0      0      0  113572  80.0   B28      NaN  \n"
     ]
    }
   ],
   "execution_count": 13
  },
  {
   "cell_type": "markdown",
   "id": "363787e8",
   "metadata": {},
   "source": [
    "3. Remplacez ces valeurs nulles par la valeur 'U' (pour unknown). Vérifiez vos résultats en réaffichant les lignes obtenues ci-dessus :"
   ]
  },
  {
   "cell_type": "code",
   "id": "2be8a958",
   "metadata": {
    "ExecuteTime": {
     "end_time": "2025-06-25T07:49:18.033738Z",
     "start_time": "2025-06-25T07:49:17.988479Z"
    }
   },
   "source": [
    "data['Embarked'] = data['Embarked'].fillna('U')\n",
    "missing_embarked_after = data[data['Embarked'] == 'U']\n",
    "print(missing_embarked_after)"
   ],
   "outputs": [
    {
     "name": "stdout",
     "output_type": "stream",
     "text": [
      "     PassengerId  Survived  Pclass                                       Name  \\\n",
      "61            62         1       1                        Icard, Miss. Amelie   \n",
      "829          830         1       1  Stone, Mrs. George Nelson (Martha Evelyn)   \n",
      "\n",
      "        Sex   Age  SibSp  Parch  Ticket  Fare Cabin Embarked  \n",
      "61   female  38.0      0      0  113572  80.0   B28        U  \n",
      "829  female  62.0      0      0  113572  80.0   B28        U  \n"
     ]
    }
   ],
   "execution_count": 14
  },
  {
   "cell_type": "markdown",
   "id": "a5e22413",
   "metadata": {},
   "source": [
    "### Traitement du numéro de cabine\n",
    "\n",
    "4. Le numéro de cabine est l'attribut qui contient le plus de valeurs nulles. Cet attribut n'a pas de lien évident avec la survie des passagers. Supprimer cette colonne dans votre dataframe."
   ]
  },
  {
   "cell_type": "code",
   "id": "aef1705c",
   "metadata": {
    "ExecuteTime": {
     "end_time": "2025-06-25T07:49:18.143894Z",
     "start_time": "2025-06-25T07:49:18.136837Z"
    }
   },
   "source": [
    "data = data.drop(columns=['Cabin'])\n",
    "print(data.columns)"
   ],
   "outputs": [
    {
     "name": "stdout",
     "output_type": "stream",
     "text": [
      "Index(['PassengerId', 'Survived', 'Pclass', 'Name', 'Sex', 'Age', 'SibSp',\n",
      "       'Parch', 'Ticket', 'Fare', 'Embarked'],\n",
      "      dtype='object')\n"
     ]
    }
   ],
   "execution_count": 15
  },
  {
   "cell_type": "markdown",
   "id": "112f1631",
   "metadata": {},
   "source": [
    "### Traitement de l'âge\n",
    "5. L'âge est un attribut plus délicat à traiter : il contient un nombre conséquent de valeur nulle, mais il est très pertinent à prendre en compte pour la prédiction de la survie d'un passager, ces deux informations étant assez fortement corrélées. Il existe plein de stratégies pour remplacer ces valeurs manquantes :\n",
    "* Mettre une valeur aléatoire '(tirée entre le min et le max)\n",
    "* Remplacer par la moyenne\n",
    "* Remplacer par une valeur déterminée en fonction des autres paramètres (classe, age, etc)\n",
    "\n",
    "Commencer par calculer pour chaque genre et pour chaque classe, l'âge moyen (6 valeurs à obtenir au total)."
   ]
  },
  {
   "cell_type": "code",
   "id": "2b2a06ff",
   "metadata": {
    "ExecuteTime": {
     "end_time": "2025-06-25T07:49:18.205753Z",
     "start_time": "2025-06-25T07:49:18.176830Z"
    }
   },
   "source": [
    "age_means = data.groupby(['Sex', 'Pclass'])['Age'].mean()\n",
    "\n",
    "print(age_means)"
   ],
   "outputs": [
    {
     "name": "stdout",
     "output_type": "stream",
     "text": [
      "Sex     Pclass\n",
      "female  1         34.611765\n",
      "        2         28.722973\n",
      "        3         21.750000\n",
      "male    1         41.281386\n",
      "        2         30.740707\n",
      "        3         26.507589\n",
      "Name: Age, dtype: float64\n"
     ]
    }
   ],
   "execution_count": 16
  },
  {
   "cell_type": "markdown",
   "id": "e42013d7",
   "metadata": {},
   "source": [
    "6. Pour chaque ligne du jeu de données, si l'âge est manquant, remplacez la valeur nulle par une des valeurs calculées ci-dessus. basez-vous sur le genre et la classe du passager pour choisir la bonne valeur. "
   ]
  },
  {
   "cell_type": "code",
   "id": "3daa4cc6",
   "metadata": {
    "ExecuteTime": {
     "end_time": "2025-06-25T07:49:18.351239Z",
     "start_time": "2025-06-25T07:49:18.322313Z"
    }
   },
   "source": [
    "age_means = data.groupby(['Sex', 'Pclass'])['Age'].mean()\n",
    "\n",
    "def fill_age(row):\n",
    "    if pd.isnull(row['Age']):\n",
    "        return age_means.loc[row['Sex'], row['Pclass']]\n",
    "    else:\n",
    "        return row['Age']\n",
    "\n",
    "data['Age'] = data.apply(fill_age, axis=1)"
   ],
   "outputs": [],
   "execution_count": 17
  },
  {
   "cell_type": "markdown",
   "id": "cf24aa8b",
   "metadata": {},
   "source": [
    "## Préparer les données\n",
    "\n",
    "Nous entrons dans la dernière phase de traitement des données : nous allons terminer des les mettre en forme, pour qu'elles soient prêtes à être manipulées dans un processus d'apprentissage."
   ]
  },
  {
   "cell_type": "markdown",
   "id": "f2ab2605",
   "metadata": {},
   "source": [
    "# Encodage des données catégorielles\n",
    "\n",
    "1. Réaffichez les infos sur le jeu de données. Vous devez avoir 11 colonnes, toutes remplies avec 891 valeurs."
   ]
  },
  {
   "cell_type": "code",
   "id": "3ac1186f",
   "metadata": {
    "ExecuteTime": {
     "end_time": "2025-06-25T07:49:18.454624Z",
     "start_time": "2025-06-25T07:49:18.396573Z"
    }
   },
   "source": [
    "print(data.info())"
   ],
   "outputs": [
    {
     "name": "stdout",
     "output_type": "stream",
     "text": [
      "<class 'pandas.core.frame.DataFrame'>\n",
      "RangeIndex: 891 entries, 0 to 890\n",
      "Data columns (total 11 columns):\n",
      " #   Column       Non-Null Count  Dtype  \n",
      "---  ------       --------------  -----  \n",
      " 0   PassengerId  891 non-null    int64  \n",
      " 1   Survived     891 non-null    int64  \n",
      " 2   Pclass       891 non-null    int64  \n",
      " 3   Name         891 non-null    object \n",
      " 4   Sex          891 non-null    object \n",
      " 5   Age          891 non-null    float64\n",
      " 6   SibSp        891 non-null    int64  \n",
      " 7   Parch        891 non-null    int64  \n",
      " 8   Ticket       891 non-null    object \n",
      " 9   Fare         891 non-null    float64\n",
      " 10  Embarked     891 non-null    object \n",
      "dtypes: float64(2), int64(5), object(4)\n",
      "memory usage: 76.7+ KB\n",
      "None\n"
     ]
    }
   ],
   "execution_count": 18
  },
  {
   "cell_type": "markdown",
   "id": "a62f568e",
   "metadata": {},
   "source": [
    "2. Trois colonnes sont liées à l'identification unique d'un passager, et ne sont pas pertinentes pour la prédiction de la survie. Supprimez ces trois colonnes de votre jeu de données."
   ]
  },
  {
   "cell_type": "code",
   "id": "a4b7d99c",
   "metadata": {
    "ExecuteTime": {
     "end_time": "2025-06-25T07:49:18.547430Z",
     "start_time": "2025-06-25T07:49:18.499808Z"
    }
   },
   "source": [
    "colonnes_a_supprimer = ['PassengerId', 'Name', 'Ticket']\n",
    "data = data.drop(columns=colonnes_a_supprimer)\n",
    "data.info()"
   ],
   "outputs": [
    {
     "name": "stdout",
     "output_type": "stream",
     "text": [
      "<class 'pandas.core.frame.DataFrame'>\n",
      "RangeIndex: 891 entries, 0 to 890\n",
      "Data columns (total 8 columns):\n",
      " #   Column    Non-Null Count  Dtype  \n",
      "---  ------    --------------  -----  \n",
      " 0   Survived  891 non-null    int64  \n",
      " 1   Pclass    891 non-null    int64  \n",
      " 2   Sex       891 non-null    object \n",
      " 3   Age       891 non-null    float64\n",
      " 4   SibSp     891 non-null    int64  \n",
      " 5   Parch     891 non-null    int64  \n",
      " 6   Fare      891 non-null    float64\n",
      " 7   Embarked  891 non-null    object \n",
      "dtypes: float64(2), int64(4), object(2)\n",
      "memory usage: 55.8+ KB\n"
     ]
    }
   ],
   "execution_count": 19
  },
  {
   "cell_type": "markdown",
   "id": "9126e8f9",
   "metadata": {},
   "source": [
    "3. Reproduisez une manipulation vue au module 3 : combinez deux colonnes relatives aux familles de passagers pour n'en faire plus qu'une. Pensez à supprimer les deux anciennes colonnes."
   ]
  },
  {
   "cell_type": "code",
   "id": "ad70a5d5",
   "metadata": {
    "scrolled": true,
    "ExecuteTime": {
     "end_time": "2025-06-25T07:49:18.602235Z",
     "start_time": "2025-06-25T07:49:18.591349Z"
    }
   },
   "source": [
    "data['FamilySize'] = data['SibSp'] + data['Parch'] + 1  # +1 pour inclure le passager lui-même\n",
    "\n",
    "data = data.drop(columns=['SibSp', 'Parch'])"
   ],
   "outputs": [],
   "execution_count": 20
  },
  {
   "cell_type": "markdown",
   "id": "a96edd21",
   "metadata": {},
   "source": [
    "4. Parmi les colonnes restantes, sur lesquelles un encodage one-hot vous semble pertinent ? En vous appuyant sur [la documentation de scikit-learn](https://scikit-learn.org/stable/modules/generated/sklearn.preprocessing.OneHotEncoder.html), appliquez cet encodage aux colonnes identifiées. Enfin, pensez à supprimer les anciennes colonnes.\n",
    "\n",
    "Note : pour le genre, il n'y a que deux possibilités dans ce jeu de données. Avec l'option `if_binary` de l'encodeur, vous pouvez ne générer qu'une seule colonne (l'autre s'obtenant immédiatement par déduction)."
   ]
  },
  {
   "cell_type": "code",
   "id": "1316c770",
   "metadata": {
    "ExecuteTime": {
     "end_time": "2025-06-25T07:49:18.772688Z",
     "start_time": "2025-06-25T07:49:18.706727Z"
    }
   },
   "source": [
    "colonnes_cat = ['Sex', 'Embarked']\n",
    "\n",
    "X_cat = data[colonnes_cat]\n",
    "\n",
    "encoder = preprocessing.OneHotEncoder(drop='if_binary', sparse_output=False, dtype=int)\n",
    "\n",
    "X_encoded = encoder.fit_transform(X_cat)\n",
    "\n",
    "noms_nouvelles_colonnes = encoder.get_feature_names_out(colonnes_cat)\n",
    "\n",
    "df_encoded = pd.DataFrame(X_encoded, columns=noms_nouvelles_colonnes, index=data.index)\n",
    "\n",
    "data = data.drop(columns=colonnes_cat)\n",
    "\n",
    "data = pd.concat([data, df_encoded], axis=1)\n",
    "\n",
    "data.head()"
   ],
   "outputs": [
    {
     "data": {
      "text/plain": [
       "   Survived  Pclass   Age     Fare  FamilySize  Sex_male  Embarked_C  \\\n",
       "0         0       3  22.0   7.2500           2         1           0   \n",
       "1         1       1  38.0  71.2833           2         0           1   \n",
       "2         1       3  26.0   7.9250           1         0           0   \n",
       "3         1       1  35.0  53.1000           2         0           0   \n",
       "4         0       3  35.0   8.0500           1         1           0   \n",
       "\n",
       "   Embarked_Q  Embarked_S  Embarked_U  \n",
       "0           0           1           0  \n",
       "1           0           0           0  \n",
       "2           0           1           0  \n",
       "3           0           1           0  \n",
       "4           0           1           0  "
      ],
      "text/html": [
       "<div>\n",
       "<style scoped>\n",
       "    .dataframe tbody tr th:only-of-type {\n",
       "        vertical-align: middle;\n",
       "    }\n",
       "\n",
       "    .dataframe tbody tr th {\n",
       "        vertical-align: top;\n",
       "    }\n",
       "\n",
       "    .dataframe thead th {\n",
       "        text-align: right;\n",
       "    }\n",
       "</style>\n",
       "<table border=\"1\" class=\"dataframe\">\n",
       "  <thead>\n",
       "    <tr style=\"text-align: right;\">\n",
       "      <th></th>\n",
       "      <th>Survived</th>\n",
       "      <th>Pclass</th>\n",
       "      <th>Age</th>\n",
       "      <th>Fare</th>\n",
       "      <th>FamilySize</th>\n",
       "      <th>Sex_male</th>\n",
       "      <th>Embarked_C</th>\n",
       "      <th>Embarked_Q</th>\n",
       "      <th>Embarked_S</th>\n",
       "      <th>Embarked_U</th>\n",
       "    </tr>\n",
       "  </thead>\n",
       "  <tbody>\n",
       "    <tr>\n",
       "      <th>0</th>\n",
       "      <td>0</td>\n",
       "      <td>3</td>\n",
       "      <td>22.0</td>\n",
       "      <td>7.2500</td>\n",
       "      <td>2</td>\n",
       "      <td>1</td>\n",
       "      <td>0</td>\n",
       "      <td>0</td>\n",
       "      <td>1</td>\n",
       "      <td>0</td>\n",
       "    </tr>\n",
       "    <tr>\n",
       "      <th>1</th>\n",
       "      <td>1</td>\n",
       "      <td>1</td>\n",
       "      <td>38.0</td>\n",
       "      <td>71.2833</td>\n",
       "      <td>2</td>\n",
       "      <td>0</td>\n",
       "      <td>1</td>\n",
       "      <td>0</td>\n",
       "      <td>0</td>\n",
       "      <td>0</td>\n",
       "    </tr>\n",
       "    <tr>\n",
       "      <th>2</th>\n",
       "      <td>1</td>\n",
       "      <td>3</td>\n",
       "      <td>26.0</td>\n",
       "      <td>7.9250</td>\n",
       "      <td>1</td>\n",
       "      <td>0</td>\n",
       "      <td>0</td>\n",
       "      <td>0</td>\n",
       "      <td>1</td>\n",
       "      <td>0</td>\n",
       "    </tr>\n",
       "    <tr>\n",
       "      <th>3</th>\n",
       "      <td>1</td>\n",
       "      <td>1</td>\n",
       "      <td>35.0</td>\n",
       "      <td>53.1000</td>\n",
       "      <td>2</td>\n",
       "      <td>0</td>\n",
       "      <td>0</td>\n",
       "      <td>0</td>\n",
       "      <td>1</td>\n",
       "      <td>0</td>\n",
       "    </tr>\n",
       "    <tr>\n",
       "      <th>4</th>\n",
       "      <td>0</td>\n",
       "      <td>3</td>\n",
       "      <td>35.0</td>\n",
       "      <td>8.0500</td>\n",
       "      <td>1</td>\n",
       "      <td>1</td>\n",
       "      <td>0</td>\n",
       "      <td>0</td>\n",
       "      <td>1</td>\n",
       "      <td>0</td>\n",
       "    </tr>\n",
       "  </tbody>\n",
       "</table>\n",
       "</div>"
      ]
     },
     "execution_count": 21,
     "metadata": {},
     "output_type": "execute_result"
    }
   ],
   "execution_count": 21
  },
  {
   "cell_type": "markdown",
   "id": "439cb51a",
   "metadata": {},
   "source": [
    "5. Vous devez à présent avoir un jeu de données sur 10 attributs, tous numériques (`int64` ou `float64`), sans aucune valeur nulle. Enregistrer ce jeu de données au format csv, afin de pouvoir le réutiliser par la suite. Il est inutile de sauvegarder l'index présent dans le dataframe."
   ]
  },
  {
   "cell_type": "code",
   "id": "363a15e3",
   "metadata": {
    "ExecuteTime": {
     "end_time": "2025-06-25T07:49:19.118939Z",
     "start_time": "2025-06-25T07:49:18.995897Z"
    }
   },
   "source": [
    "print(data.dtypes)\n",
    "print(data.isnull().sum())\n",
    "data.to_csv('https://raw.githubusercontent.com/datasciencedojo/datasets/master/titanic.csv', index=False)"
   ],
   "outputs": [
    {
     "name": "stdout",
     "output_type": "stream",
     "text": [
      "Survived        int64\n",
      "Pclass          int64\n",
      "Age           float64\n",
      "Fare          float64\n",
      "FamilySize      int64\n",
      "Sex_male        int32\n",
      "Embarked_C      int32\n",
      "Embarked_Q      int32\n",
      "Embarked_S      int32\n",
      "Embarked_U      int32\n",
      "dtype: object\n",
      "Survived      0\n",
      "Pclass        0\n",
      "Age           0\n",
      "Fare          0\n",
      "FamilySize    0\n",
      "Sex_male      0\n",
      "Embarked_C    0\n",
      "Embarked_Q    0\n",
      "Embarked_S    0\n",
      "Embarked_U    0\n",
      "dtype: int64\n"
     ]
    }
   ],
   "execution_count": 22
  },
  {
   "cell_type": "markdown",
   "id": "91ccfd1f",
   "metadata": {},
   "source": [
    "# Fin du TP !"
   ]
  }
 ],
 "metadata": {
  "kernelspec": {
   "display_name": "Python 3 (ipykernel)",
   "language": "python",
   "name": "python3"
  },
  "language_info": {
   "codemirror_mode": {
    "name": "ipython",
    "version": 3
   },
   "file_extension": ".py",
   "mimetype": "text/x-python",
   "name": "python",
   "nbconvert_exporter": "python",
   "pygments_lexer": "ipython3",
   "version": "3.12.7"
  }
 },
 "nbformat": 4,
 "nbformat_minor": 5
}
